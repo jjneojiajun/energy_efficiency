{
 "cells": [
  {
   "cell_type": "markdown",
   "metadata": {},
   "source": [
    "# Import the Libraries"
   ]
  },
  {
   "cell_type": "markdown",
   "metadata": {},
   "source": [
    "We perform energy analysis using 12 different building shapes simulated in Ecotect. The buildings differ with respect to the glazing area, the glazing area distribution, and the orientation, amongst other parameters. We simulate various settings as functions of the afore-mentioned characteristics to obtain 768 building shapes. The dataset comprises 768 samples and 8 features, aiming to predict two real valued responses. It can also be used as a multi-class classification problem if the response is rounded to the nearest integer.\n",
    "\n",
    "Attribute Information:\n",
    "\n",
    "The dataset contains eight attributes (or features, denoted by X1...X8) and two responses (or outcomes, denoted by y1 and y2). The aim is to use the eight features to predict each of the two responses.\n",
    "\n",
    "Specifically: X1 Relative Compactness X2 Surface Area X3 Wall Area X4 Roof Area X5 Overall Height X6 Orientation X7 Glazing Area X8 Glazing Area Distribution y1 Heating Load y2 Cooling Load"
   ]
  },
  {
   "cell_type": "code",
   "execution_count": 1,
   "metadata": {
    "collapsed": true
   },
   "outputs": [],
   "source": [
    "import numpy as np\n",
    "import pandas as pd\n",
    "import matplotlib.pyplot as plt\n",
    "import seaborn as sns\n",
    "%matplotlib inline"
   ]
  },
  {
   "cell_type": "code",
   "execution_count": 2,
   "metadata": {
    "collapsed": true
   },
   "outputs": [],
   "source": [
    "# read data from csv\n",
    "df = pd.read_csv('ENB2012_data.csv')"
   ]
  },
  {
   "cell_type": "code",
   "execution_count": 3,
   "metadata": {},
   "outputs": [
    {
     "name": "stdout",
     "output_type": "stream",
     "text": [
      "<class 'pandas.core.frame.DataFrame'>\n",
      "RangeIndex: 768 entries, 0 to 767\n",
      "Data columns (total 10 columns):\n",
      "X1    768 non-null float64\n",
      "X2    768 non-null float64\n",
      "X3    768 non-null float64\n",
      "X4    768 non-null float64\n",
      "X5    768 non-null float64\n",
      "X6    768 non-null int64\n",
      "X7    768 non-null float64\n",
      "X8    768 non-null int64\n",
      "Y1    768 non-null float64\n",
      "Y2    768 non-null float64\n",
      "dtypes: float64(8), int64(2)\n",
      "memory usage: 60.1 KB\n"
     ]
    }
   ],
   "source": [
    "df.info()"
   ]
  },
  {
   "cell_type": "code",
   "execution_count": 4,
   "metadata": {
    "collapsed": true
   },
   "outputs": [],
   "source": [
    "columns = ['Rel_Comp', 'Surf_Area', 'Wall_Area', 'Roof_Area', 'Overall_Height', 'Orientation', 'Glazing_Area', 'Glazing_Area_Dist', 'Heating_Load', 'Cooling_Load']"
   ]
  },
  {
   "cell_type": "code",
   "execution_count": 5,
   "metadata": {
    "collapsed": true
   },
   "outputs": [],
   "source": [
    "df.columns = columns"
   ]
  },
  {
   "cell_type": "code",
   "execution_count": 6,
   "metadata": {},
   "outputs": [
    {
     "name": "stdout",
     "output_type": "stream",
     "text": [
      "<class 'pandas.core.frame.DataFrame'>\n",
      "RangeIndex: 768 entries, 0 to 767\n",
      "Data columns (total 10 columns):\n",
      "Rel_Comp             768 non-null float64\n",
      "Surf_Area            768 non-null float64\n",
      "Wall_Area            768 non-null float64\n",
      "Roof_Area            768 non-null float64\n",
      "Overall_Height       768 non-null float64\n",
      "Orientation          768 non-null int64\n",
      "Glazing_Area         768 non-null float64\n",
      "Glazing_Area_Dist    768 non-null int64\n",
      "Heating_Load         768 non-null float64\n",
      "Cooling_Load         768 non-null float64\n",
      "dtypes: float64(8), int64(2)\n",
      "memory usage: 60.1 KB\n"
     ]
    }
   ],
   "source": [
    "df.info()"
   ]
  },
  {
   "cell_type": "code",
   "execution_count": 7,
   "metadata": {},
   "outputs": [
    {
     "data": {
      "text/html": [
       "<div>\n",
       "<style>\n",
       "    .dataframe thead tr:only-child th {\n",
       "        text-align: right;\n",
       "    }\n",
       "\n",
       "    .dataframe thead th {\n",
       "        text-align: left;\n",
       "    }\n",
       "\n",
       "    .dataframe tbody tr th {\n",
       "        vertical-align: top;\n",
       "    }\n",
       "</style>\n",
       "<table border=\"1\" class=\"dataframe\">\n",
       "  <thead>\n",
       "    <tr style=\"text-align: right;\">\n",
       "      <th></th>\n",
       "      <th>Rel_Comp</th>\n",
       "      <th>Surf_Area</th>\n",
       "      <th>Wall_Area</th>\n",
       "      <th>Roof_Area</th>\n",
       "      <th>Overall_Height</th>\n",
       "      <th>Orientation</th>\n",
       "      <th>Glazing_Area</th>\n",
       "      <th>Glazing_Area_Dist</th>\n",
       "      <th>Heating_Load</th>\n",
       "      <th>Cooling_Load</th>\n",
       "    </tr>\n",
       "  </thead>\n",
       "  <tbody>\n",
       "    <tr>\n",
       "      <th>0</th>\n",
       "      <td>0.98</td>\n",
       "      <td>514.5</td>\n",
       "      <td>294.0</td>\n",
       "      <td>110.25</td>\n",
       "      <td>7.0</td>\n",
       "      <td>2</td>\n",
       "      <td>0.0</td>\n",
       "      <td>0</td>\n",
       "      <td>15.55</td>\n",
       "      <td>21.33</td>\n",
       "    </tr>\n",
       "    <tr>\n",
       "      <th>1</th>\n",
       "      <td>0.98</td>\n",
       "      <td>514.5</td>\n",
       "      <td>294.0</td>\n",
       "      <td>110.25</td>\n",
       "      <td>7.0</td>\n",
       "      <td>3</td>\n",
       "      <td>0.0</td>\n",
       "      <td>0</td>\n",
       "      <td>15.55</td>\n",
       "      <td>21.33</td>\n",
       "    </tr>\n",
       "    <tr>\n",
       "      <th>2</th>\n",
       "      <td>0.98</td>\n",
       "      <td>514.5</td>\n",
       "      <td>294.0</td>\n",
       "      <td>110.25</td>\n",
       "      <td>7.0</td>\n",
       "      <td>4</td>\n",
       "      <td>0.0</td>\n",
       "      <td>0</td>\n",
       "      <td>15.55</td>\n",
       "      <td>21.33</td>\n",
       "    </tr>\n",
       "    <tr>\n",
       "      <th>3</th>\n",
       "      <td>0.98</td>\n",
       "      <td>514.5</td>\n",
       "      <td>294.0</td>\n",
       "      <td>110.25</td>\n",
       "      <td>7.0</td>\n",
       "      <td>5</td>\n",
       "      <td>0.0</td>\n",
       "      <td>0</td>\n",
       "      <td>15.55</td>\n",
       "      <td>21.33</td>\n",
       "    </tr>\n",
       "    <tr>\n",
       "      <th>4</th>\n",
       "      <td>0.90</td>\n",
       "      <td>563.5</td>\n",
       "      <td>318.5</td>\n",
       "      <td>122.50</td>\n",
       "      <td>7.0</td>\n",
       "      <td>2</td>\n",
       "      <td>0.0</td>\n",
       "      <td>0</td>\n",
       "      <td>20.84</td>\n",
       "      <td>28.28</td>\n",
       "    </tr>\n",
       "  </tbody>\n",
       "</table>\n",
       "</div>"
      ],
      "text/plain": [
       "   Rel_Comp  Surf_Area  Wall_Area  Roof_Area  Overall_Height  Orientation  \\\n",
       "0      0.98      514.5      294.0     110.25             7.0            2   \n",
       "1      0.98      514.5      294.0     110.25             7.0            3   \n",
       "2      0.98      514.5      294.0     110.25             7.0            4   \n",
       "3      0.98      514.5      294.0     110.25             7.0            5   \n",
       "4      0.90      563.5      318.5     122.50             7.0            2   \n",
       "\n",
       "   Glazing_Area  Glazing_Area_Dist  Heating_Load  Cooling_Load  \n",
       "0           0.0                  0         15.55         21.33  \n",
       "1           0.0                  0         15.55         21.33  \n",
       "2           0.0                  0         15.55         21.33  \n",
       "3           0.0                  0         15.55         21.33  \n",
       "4           0.0                  0         20.84         28.28  "
      ]
     },
     "execution_count": 7,
     "metadata": {},
     "output_type": "execute_result"
    }
   ],
   "source": [
    "df.head()"
   ]
  },
  {
   "cell_type": "code",
   "execution_count": 8,
   "metadata": {},
   "outputs": [
    {
     "data": {
      "text/html": [
       "<div>\n",
       "<style>\n",
       "    .dataframe thead tr:only-child th {\n",
       "        text-align: right;\n",
       "    }\n",
       "\n",
       "    .dataframe thead th {\n",
       "        text-align: left;\n",
       "    }\n",
       "\n",
       "    .dataframe tbody tr th {\n",
       "        vertical-align: top;\n",
       "    }\n",
       "</style>\n",
       "<table border=\"1\" class=\"dataframe\">\n",
       "  <thead>\n",
       "    <tr style=\"text-align: right;\">\n",
       "      <th></th>\n",
       "      <th>Rel_Comp</th>\n",
       "      <th>Surf_Area</th>\n",
       "      <th>Wall_Area</th>\n",
       "      <th>Roof_Area</th>\n",
       "      <th>Overall_Height</th>\n",
       "      <th>Orientation</th>\n",
       "      <th>Glazing_Area</th>\n",
       "      <th>Glazing_Area_Dist</th>\n",
       "      <th>Heating_Load</th>\n",
       "      <th>Cooling_Load</th>\n",
       "    </tr>\n",
       "  </thead>\n",
       "  <tbody>\n",
       "    <tr>\n",
       "      <th>count</th>\n",
       "      <td>768.000000</td>\n",
       "      <td>768.000000</td>\n",
       "      <td>768.000000</td>\n",
       "      <td>768.000000</td>\n",
       "      <td>768.00000</td>\n",
       "      <td>768.000000</td>\n",
       "      <td>768.000000</td>\n",
       "      <td>768.00000</td>\n",
       "      <td>768.000000</td>\n",
       "      <td>768.000000</td>\n",
       "    </tr>\n",
       "    <tr>\n",
       "      <th>mean</th>\n",
       "      <td>0.764167</td>\n",
       "      <td>671.708333</td>\n",
       "      <td>318.500000</td>\n",
       "      <td>176.604167</td>\n",
       "      <td>5.25000</td>\n",
       "      <td>3.500000</td>\n",
       "      <td>0.234375</td>\n",
       "      <td>2.81250</td>\n",
       "      <td>22.307201</td>\n",
       "      <td>24.587760</td>\n",
       "    </tr>\n",
       "    <tr>\n",
       "      <th>std</th>\n",
       "      <td>0.105777</td>\n",
       "      <td>88.086116</td>\n",
       "      <td>43.626481</td>\n",
       "      <td>45.165950</td>\n",
       "      <td>1.75114</td>\n",
       "      <td>1.118763</td>\n",
       "      <td>0.133221</td>\n",
       "      <td>1.55096</td>\n",
       "      <td>10.090196</td>\n",
       "      <td>9.513306</td>\n",
       "    </tr>\n",
       "    <tr>\n",
       "      <th>min</th>\n",
       "      <td>0.620000</td>\n",
       "      <td>514.500000</td>\n",
       "      <td>245.000000</td>\n",
       "      <td>110.250000</td>\n",
       "      <td>3.50000</td>\n",
       "      <td>2.000000</td>\n",
       "      <td>0.000000</td>\n",
       "      <td>0.00000</td>\n",
       "      <td>6.010000</td>\n",
       "      <td>10.900000</td>\n",
       "    </tr>\n",
       "    <tr>\n",
       "      <th>25%</th>\n",
       "      <td>0.682500</td>\n",
       "      <td>606.375000</td>\n",
       "      <td>294.000000</td>\n",
       "      <td>140.875000</td>\n",
       "      <td>3.50000</td>\n",
       "      <td>2.750000</td>\n",
       "      <td>0.100000</td>\n",
       "      <td>1.75000</td>\n",
       "      <td>12.992500</td>\n",
       "      <td>15.620000</td>\n",
       "    </tr>\n",
       "    <tr>\n",
       "      <th>50%</th>\n",
       "      <td>0.750000</td>\n",
       "      <td>673.750000</td>\n",
       "      <td>318.500000</td>\n",
       "      <td>183.750000</td>\n",
       "      <td>5.25000</td>\n",
       "      <td>3.500000</td>\n",
       "      <td>0.250000</td>\n",
       "      <td>3.00000</td>\n",
       "      <td>18.950000</td>\n",
       "      <td>22.080000</td>\n",
       "    </tr>\n",
       "    <tr>\n",
       "      <th>75%</th>\n",
       "      <td>0.830000</td>\n",
       "      <td>741.125000</td>\n",
       "      <td>343.000000</td>\n",
       "      <td>220.500000</td>\n",
       "      <td>7.00000</td>\n",
       "      <td>4.250000</td>\n",
       "      <td>0.400000</td>\n",
       "      <td>4.00000</td>\n",
       "      <td>31.667500</td>\n",
       "      <td>33.132500</td>\n",
       "    </tr>\n",
       "    <tr>\n",
       "      <th>max</th>\n",
       "      <td>0.980000</td>\n",
       "      <td>808.500000</td>\n",
       "      <td>416.500000</td>\n",
       "      <td>220.500000</td>\n",
       "      <td>7.00000</td>\n",
       "      <td>5.000000</td>\n",
       "      <td>0.400000</td>\n",
       "      <td>5.00000</td>\n",
       "      <td>43.100000</td>\n",
       "      <td>48.030000</td>\n",
       "    </tr>\n",
       "  </tbody>\n",
       "</table>\n",
       "</div>"
      ],
      "text/plain": [
       "         Rel_Comp   Surf_Area   Wall_Area   Roof_Area  Overall_Height  \\\n",
       "count  768.000000  768.000000  768.000000  768.000000       768.00000   \n",
       "mean     0.764167  671.708333  318.500000  176.604167         5.25000   \n",
       "std      0.105777   88.086116   43.626481   45.165950         1.75114   \n",
       "min      0.620000  514.500000  245.000000  110.250000         3.50000   \n",
       "25%      0.682500  606.375000  294.000000  140.875000         3.50000   \n",
       "50%      0.750000  673.750000  318.500000  183.750000         5.25000   \n",
       "75%      0.830000  741.125000  343.000000  220.500000         7.00000   \n",
       "max      0.980000  808.500000  416.500000  220.500000         7.00000   \n",
       "\n",
       "       Orientation  Glazing_Area  Glazing_Area_Dist  Heating_Load  \\\n",
       "count   768.000000    768.000000          768.00000    768.000000   \n",
       "mean      3.500000      0.234375            2.81250     22.307201   \n",
       "std       1.118763      0.133221            1.55096     10.090196   \n",
       "min       2.000000      0.000000            0.00000      6.010000   \n",
       "25%       2.750000      0.100000            1.75000     12.992500   \n",
       "50%       3.500000      0.250000            3.00000     18.950000   \n",
       "75%       4.250000      0.400000            4.00000     31.667500   \n",
       "max       5.000000      0.400000            5.00000     43.100000   \n",
       "\n",
       "       Cooling_Load  \n",
       "count    768.000000  \n",
       "mean      24.587760  \n",
       "std        9.513306  \n",
       "min       10.900000  \n",
       "25%       15.620000  \n",
       "50%       22.080000  \n",
       "75%       33.132500  \n",
       "max       48.030000  "
      ]
     },
     "execution_count": 8,
     "metadata": {},
     "output_type": "execute_result"
    }
   ],
   "source": [
    "df.describe()"
   ]
  },
  {
   "cell_type": "markdown",
   "metadata": {},
   "source": [
    "## EDA"
   ]
  },
  {
   "cell_type": "code",
   "execution_count": 9,
   "metadata": {},
   "outputs": [
    {
     "data": {
      "text/plain": [
       "<matplotlib.axes._subplots.AxesSubplot at 0x14c49188710>"
      ]
     },
     "execution_count": 9,
     "metadata": {},
     "output_type": "execute_result"
    },
    {
     "data": {
      "image/png": "[encoded data removed]",
      "text/plain": [
       "<matplotlib.figure.Figure at 0x14c49188ac8>"
      ]
     },
     "metadata": {},
     "output_type": "display_data"
    }
   ],
   "source": [
    "plt.figure(figsize=(16,8))\n",
    "sns.heatmap(df.corr(), annot=True, cmap='coolwarm')"
   ]
  },
  {
   "cell_type": "markdown",
   "metadata": {},
   "source": [
    "Based on the correlation of the variables to the target classes, Overall Height is the most correlated followed by Roof Area for negative correlations and finally 'orientation' is the least correlated"
   ]
  },
  {
   "cell_type": "code",
   "execution_count": 10,
   "metadata": {
    "collapsed": true
   },
   "outputs": [],
   "source": [
    "from sklearn.feature_selection import RFE\n",
    "from sklearn.ensemble import ExtraTreesRegressor\n"
   ]
  },
  {
   "cell_type": "code",
   "execution_count": 11,
   "metadata": {
    "collapsed": true
   },
   "outputs": [],
   "source": [
    "X = df[['Rel_Comp', 'Surf_Area', 'Wall_Area', 'Roof_Area', 'Overall_Height', 'Orientation', 'Glazing_Area', 'Glazing_Area_Dist']]\n",
    "Y1 = df['Heating_Load']\n",
    "Y2 = df['Cooling_Load']"
   ]
  },
  {
   "cell_type": "code",
   "execution_count": 12,
   "metadata": {},
   "outputs": [
    {
     "name": "stdout",
     "output_type": "stream",
     "text": [
      "Number of Features:  3\n",
      "Selected Features:  [False  True False  True  True False False False]\n",
      "Feature Ranking:  [4 1 3 1 1 6 2 5]\n"
     ]
    }
   ],
   "source": [
    "rf = ExtraTreesRegressor()\n",
    "rfe = RFE(rf, 3)\n",
    "fit = rfe.fit(X, Y1)\n",
    "\n",
    "print(\"Number of Features: \", fit.n_features_)\n",
    "print(\"Selected Features: \", fit.support_)\n",
    "print(\"Feature Ranking: \", fit.ranking_) "
   ]
  },
  {
   "cell_type": "markdown",
   "metadata": {},
   "source": [
    "'wall_area', 'roof_area' and 'overall_height' were top 3 selected features/feature combination for predicting 'heating_load' using Recursive Feature Elimination, the 2nd and 3rd selected features were atually among the attributes with the highest correlation with the 'heating_load'"
   ]
  },
  {
   "cell_type": "code",
   "execution_count": 13,
   "metadata": {},
   "outputs": [
    {
     "name": "stdout",
     "output_type": "stream",
     "text": [
      "Number of Features:  3\n",
      "Selected Features:  [False  True False False  True False  True False]\n",
      "Feature Ranking:  [2 1 3 6 1 5 1 4]\n"
     ]
    }
   ],
   "source": [
    "rf = ExtraTreesRegressor()\n",
    "rfe = RFE(rf, 3)\n",
    "fit = rfe.fit(X, Y2)\n",
    "\n",
    "print(\"Number of Features: \", fit.n_features_)\n",
    "print(\"Selected Features: \", fit.support_)\n",
    "print(\"Feature Ranking: \", fit.ranking_) "
   ]
  },
  {
   "cell_type": "markdown",
   "metadata": {},
   "source": [
    "'wall_area', 'roof_area' and 'overall_height' were top 3 selected features/feature combination for predicting 'heating_load' using Recursive Feature Elimination, the 2nd and 3rd selected features were atually among the attributes with the highest correlation with the 'heating_load'"
   ]
  },
  {
   "cell_type": "code",
   "execution_count": 14,
   "metadata": {},
   "outputs": [
    {
     "name": "stderr",
     "output_type": "stream",
     "text": [
      "D:\\Anaconda\\envs\\tfdeeplearning\\lib\\site-packages\\sklearn\\cross_validation.py:41: DeprecationWarning: This module was deprecated in version 0.18 in favor of the model_selection module into which all the refactored classes and functions are moved. Also note that the interface of the new CV iterators are different from that of this module. This module will be removed in 0.20.\n",
      "  \"This module will be removed in 0.20.\", DeprecationWarning)\n"
     ]
    }
   ],
   "source": [
    "from sklearn.linear_model import LinearRegression\n",
    "from sklearn.ensemble import RandomForestRegressor\n",
    "from sklearn.tree import DecisionTreeRegressor\n",
    "from sklearn.svm import SVR\n",
    "from sklearn.neighbors import KNeighborsRegressor\n",
    "from sklearn import cross_validation"
   ]
  },
  {
   "cell_type": "code",
   "execution_count": 15,
   "metadata": {
    "collapsed": true
   },
   "outputs": [],
   "source": [
    "num_instances = len(X)"
   ]
  },
  {
   "cell_type": "code",
   "execution_count": 16,
   "metadata": {},
   "outputs": [
    {
     "name": "stdout",
     "output_type": "stream",
     "text": [
      "LiR: 0.894327 (0.064875)\n",
      "RandomForest: 0.968619 (0.083941)\n",
      "ExtraTreesRegressor: 0.968791 (0.082243)\n",
      "SVM: 0.837300 (0.149457)\n",
      "KNN: 0.885004 (0.194983)\n"
     ]
    }
   ],
   "source": [
    "models = []\n",
    "models.append(('LiR', LinearRegression()))\n",
    "models.append(('RandomForest', RandomForestRegressor()))\n",
    "models.append(('ExtraTreesRegressor', ExtraTreesRegressor()))\n",
    "models.append(('SVM', SVR()))\n",
    "models.append(('KNN', KNeighborsRegressor()))\n",
    "\n",
    "# Evaluations\n",
    "results = []\n",
    "names = []\n",
    "scoring = []\n",
    "\n",
    "for name, model in models:\n",
    "    # Fit model\n",
    "    model.fit(X, Y1)\n",
    "    \n",
    "    predictions = model.predict(X)\n",
    "    \n",
    "    # Evaluate the model\n",
    "    kfold = cross_validation.KFold(n=num_instances, n_folds=10, random_state=101)\n",
    "    cv_results = cross_validation.cross_val_score(model, X, Y1, cv=10)\n",
    "    results.append(cv_results)\n",
    "    names.append(name)\n",
    "    msg = \"%s: %f (%f)\" % (name, cv_results.mean(), cv_results.std())\n",
    "    print(msg)"
   ]
  },
  {
   "cell_type": "code",
   "execution_count": 17,
   "metadata": {},
   "outputs": [
    {
     "data": {
      "text/plain": [
       "[<matplotlib.text.Text at 0x14c4ae872b0>,\n",
       " <matplotlib.text.Text at 0x14c4ae78b00>,\n",
       " <matplotlib.text.Text at 0x14c4af289b0>,\n",
       " <matplotlib.text.Text at 0x14c4af2c3c8>,\n",
       " <matplotlib.text.Text at 0x14c4af2cda0>]"
      ]
     },
     "execution_count": 17,
     "metadata": {},
     "output_type": "execute_result"
    },
    {
     "data": {
      "image/png": "[encoded data removed]",
      "text/plain": [
       "<matplotlib.figure.Figure at 0x14c49e79a20>"
      ]
     },
     "metadata": {},
     "output_type": "display_data"
    }
   ],
   "source": [
    "#boxplot algorithm Comparison\n",
    "fig = plt.figure()\n",
    "fig.suptitle('Algorithm Comparison')\n",
    "ax = fig.add_subplot(111)\n",
    "plt.boxplot(results)\n",
    "ax.set_xticklabels(names)"
   ]
  },
  {
   "cell_type": "markdown",
   "metadata": {},
   "source": [
    "For Hot Load, the best model to predict the Hot Load is using the RandomForestRegressor,  ExtraTressRegressor based on the standard deviation as well as the mean."
   ]
  },
  {
   "cell_type": "code",
   "execution_count": 18,
   "metadata": {},
   "outputs": [
    {
     "name": "stdout",
     "output_type": "stream",
     "text": [
      "LiR: 0.876912 (0.033165)\n",
      "RandomForest: 0.964250 (0.024618)\n",
      "ExtraTreesRegressor: 0.949243 (0.022136)\n",
      "SVM: 0.859163 (0.076793)\n",
      "KNN: 0.924107 (0.088863)\n"
     ]
    }
   ],
   "source": [
    "models = []\n",
    "models.append(('LiR', LinearRegression()))\n",
    "models.append(('RandomForest', RandomForestRegressor()))\n",
    "models.append(('ExtraTreesRegressor', ExtraTreesRegressor()))\n",
    "models.append(('SVM', SVR()))\n",
    "models.append(('KNN', KNeighborsRegressor()))\n",
    "\n",
    "# Evaluations\n",
    "results = []\n",
    "names = []\n",
    "scoring = []\n",
    "\n",
    "for name, model in models:\n",
    "    # Fit model\n",
    "    model.fit(X, Y2)\n",
    "    \n",
    "    predictions = model.predict(X)\n",
    "    \n",
    "    # Evaluate the model\n",
    "    kfold = cross_validation.KFold(n=num_instances, n_folds=10, random_state=101)\n",
    "    cv_results = cross_validation.cross_val_score(model, X, Y2, cv=10)\n",
    "    results.append(cv_results)\n",
    "    names.append(name)\n",
    "    msg = \"%s: %f (%f)\" % (name, cv_results. mean(), cv_results.std())\n",
    "    print(msg)"
   ]
  },
  {
   "cell_type": "code",
   "execution_count": 19,
   "metadata": {},
   "outputs": [
    {
     "data": {
      "text/plain": [
       "[<matplotlib.text.Text at 0x14c4af8b630>,\n",
       " <matplotlib.text.Text at 0x14c4af8f358>,\n",
       " <matplotlib.text.Text at 0x14c4b01d400>,\n",
       " <matplotlib.text.Text at 0x14c4b01ddd8>,\n",
       " <matplotlib.text.Text at 0x14c4b0227f0>]"
      ]
     },
     "execution_count": 19,
     "metadata": {},
     "output_type": "execute_result"
    },
    {
     "data": {
      "image/png": "[encoded data removed]",
      "text/plain": [
       "<matplotlib.figure.Figure at 0x14c4af5b8d0>"
      ]
     },
     "metadata": {},
     "output_type": "display_data"
    }
   ],
   "source": [
    "#boxplot algorithm Comparison\n",
    "fig = plt.figure()\n",
    "fig.suptitle('Algorithm Comparison')\n",
    "ax = fig.add_subplot(111)\n",
    "plt.boxplot(results)\n",
    "ax.set_xticklabels(names)"
   ]
  },
  {
   "cell_type": "markdown",
   "metadata": {},
   "source": [
    "The random forest are the best estimators/models for 'cooling_load', they can be further explored."
   ]
  },
  {
   "cell_type": "code",
   "execution_count": 20,
   "metadata": {},
   "outputs": [
    {
     "name": "stderr",
     "output_type": "stream",
     "text": [
      "Using TensorFlow backend.\n"
     ]
    }
   ],
   "source": [
    "from sklearn.model_selection import StratifiedKFold, cross_val_score, KFold\n",
    "from sklearn.metrics import confusion_matrix, classification_report\n",
    "\n",
    "from keras.models import Sequential\n",
    "from keras.layers import Dense\n",
    "from keras.layers import Dropout\n",
    "from keras.utils import np_utils\n",
    "from sklearn.model_selection import StratifiedKFold\n",
    "from keras.constraints import maxnorm\n",
    "#from sklearn.metrics import explained_variance_score\n",
    "#from sklearn.metrics import mean_squared_error\n",
    "from sklearn.metrics import mean_absolute_error, roc_curve, auc"
   ]
  },
  {
   "cell_type": "code",
   "execution_count": 21,
   "metadata": {},
   "outputs": [
    {
     "data": {
      "text/plain": [
       "RandomForestRegressor(bootstrap=True, criterion='mse', max_depth=None,\n",
       "           max_features='auto', max_leaf_nodes=None,\n",
       "           min_impurity_decrease=0.0, min_impurity_split=None,\n",
       "           min_samples_leaf=1, min_samples_split=2,\n",
       "           min_weight_fraction_leaf=0.0, n_estimators=10, n_jobs=1,\n",
       "           oob_score=False, random_state=None, verbose=0, warm_start=False)"
      ]
     },
     "execution_count": 21,
     "metadata": {},
     "output_type": "execute_result"
    }
   ],
   "source": [
    "rf = RandomForestRegressor()\n",
    "rf.fit(X, Y1)"
   ]
  },
  {
   "cell_type": "code",
   "execution_count": 37,
   "metadata": {},
   "outputs": [],
   "source": [
    "fake_X = df.iloc[0:8, 0:8]"
   ]
  },
  {
   "cell_type": "code",
   "execution_count": 38,
   "metadata": {},
   "outputs": [
    {
     "data": {
      "text/plain": [
       "array([ 15.55 ,  15.55 ,  15.55 ,  15.55 ,  21.088,  21.336,  20.935,\n",
       "        20.167])"
      ]
     },
     "execution_count": 38,
     "metadata": {},
     "output_type": "execute_result"
    }
   ],
   "source": [
    "rf.predict(fake_X)"
   ]
  },
  {
   "cell_type": "code",
   "execution_count": 42,
   "metadata": {},
   "outputs": [
    {
     "name": "stderr",
     "output_type": "stream",
     "text": [
      "D:\\Anaconda\\envs\\tfdeeplearning\\lib\\site-packages\\sklearn\\model_selection\\_split.py:597: Warning: The least populated class in y has only 1 members, which is too few. The minimum number of members in any class cannot be less than n_splits=5.\n",
      "  % (min_groups, self.n_splits)), Warning)\n",
      "D:\\Anaconda\\envs\\tfdeeplearning\\lib\\site-packages\\ipykernel_launcher.py:8: UserWarning: Update your `Dense` call to the Keras 2 API: `Dense(15, activation=\"relu\", input_dim=8, kernel_initializer=\"uniform\")`\n",
      "  \n",
      "D:\\Anaconda\\envs\\tfdeeplearning\\lib\\site-packages\\ipykernel_launcher.py:10: UserWarning: Update your `Dense` call to the Keras 2 API: `Dense(8, kernel_constraint=<keras.con..., activation=\"relu\", kernel_initializer=\"uniform\")`\n",
      "  # Remove the CWD from sys.path while we load stuff.\n",
      "D:\\Anaconda\\envs\\tfdeeplearning\\lib\\site-packages\\ipykernel_launcher.py:12: UserWarning: Update your `Dense` call to the Keras 2 API: `Dense(5, activation=\"relu\", kernel_initializer=\"uniform\")`\n",
      "  if sys.path[0] == '':\n",
      "D:\\Anaconda\\envs\\tfdeeplearning\\lib\\site-packages\\ipykernel_launcher.py:13: UserWarning: Update your `Dense` call to the Keras 2 API: `Dense(1, activation=\"relu\", kernel_initializer=\"uniform\")`\n",
      "  del sys.path[0]\n"
     ]
    },
    {
     "name": "stdout",
     "output_type": "stream",
     "text": [
      "score: 89.82%\n",
      "score: 95.06%\n",
      "score: 92.40%\n",
      "score: 91.25%\n",
      "score: 93.53%\n",
      "93.53% (+/- 0.00%)\n"
     ]
    }
   ],
   "source": [
    "# Define 10-fold Cross Valdation Test Harness\n",
    "kfold = StratifiedKFold(n_splits=5, shuffle=True, random_state=101)\n",
    "cvscores = []\n",
    "for train, test in kfold.split(X, Y1):\n",
    "\n",
    "    # create model\n",
    "    model = Sequential()\n",
    "    model.add(Dense(15, input_dim=8, init='uniform', activation='relu'))\n",
    "    model.add(Dropout(0.2))\n",
    "    model.add(Dense(8, init='uniform', activation='relu', kernel_constraint=maxnorm(3)))\n",
    "    model.add(Dropout(0.2))\n",
    "    model.add(Dense(5, init='uniform', activation='relu'))\n",
    "    model.add(Dense(1, init='uniform', activation='relu'))\n",
    "\n",
    "    # Compile model\n",
    "    model.compile(loss='mean_absolute_error', optimizer='sgd')\n",
    "\n",
    "    # Fit the model\n",
    "    model.fit(X.iloc[train], Y1.iloc[train], epochs=300, batch_size=10, verbose=0)\n",
    "\n",
    "    # Evaluate the model\n",
    "    scores = model.evaluate(X.iloc[test], Y1.iloc[test], verbose=0)\n",
    "    print(\"%s: %.2f%%\" % (\"score\", 100-scores))\n",
    "cvscores.append(100-scores)\n",
    "print(\"%.2f%% (+/- %.2f%%)\" % (np.mean(cvscores), np.std(cvscores)))"
   ]
  },
  {
   "cell_type": "code",
   "execution_count": 48,
   "metadata": {},
   "outputs": [
    {
     "name": "stderr",
     "output_type": "stream",
     "text": [
      "D:\\Anaconda\\envs\\tfdeeplearning\\lib\\site-packages\\sklearn\\model_selection\\_split.py:597: Warning: The least populated class in y has only 1 members, which is too few. The minimum number of members in any class cannot be less than n_splits=3.\n",
      "  % (min_groups, self.n_splits)), Warning)\n",
      "D:\\Anaconda\\envs\\tfdeeplearning\\lib\\site-packages\\ipykernel_launcher.py:8: UserWarning: Update your `Dense` call to the Keras 2 API: `Dense(15, activation=\"relu\", input_dim=8, kernel_initializer=\"uniform\")`\n",
      "  \n",
      "D:\\Anaconda\\envs\\tfdeeplearning\\lib\\site-packages\\ipykernel_launcher.py:10: UserWarning: Update your `Dense` call to the Keras 2 API: `Dense(8, kernel_constraint=<keras.con..., activation=\"relu\", kernel_initializer=\"uniform\")`\n",
      "  # Remove the CWD from sys.path while we load stuff.\n",
      "D:\\Anaconda\\envs\\tfdeeplearning\\lib\\site-packages\\ipykernel_launcher.py:12: UserWarning: Update your `Dense` call to the Keras 2 API: `Dense(5, activation=\"relu\", kernel_initializer=\"uniform\")`\n",
      "  if sys.path[0] == '':\n",
      "D:\\Anaconda\\envs\\tfdeeplearning\\lib\\site-packages\\ipykernel_launcher.py:13: UserWarning: Update your `Dense` call to the Keras 2 API: `Dense(1, activation=\"relu\", kernel_initializer=\"uniform\")`\n",
      "  del sys.path[0]\n"
     ]
    },
    {
     "name": "stdout",
     "output_type": "stream",
     "text": [
      "score: 92.92%\n",
      "score: 90.23%\n",
      "score: 91.37%\n",
      "91.37% (+/- 0.00%)\n"
     ]
    }
   ],
   "source": [
    "# Define 10-fold Cross Valdation Test Harness\n",
    "kfold = StratifiedKFold(n_splits=3, shuffle=True, random_state=101)\n",
    "cvscores = []\n",
    "for train, test in kfold.split(X, Y2):\n",
    "\n",
    "    # create model\n",
    "    model = Sequential()\n",
    "    model.add(Dense(15, input_dim=8, init='uniform', activation='relu'))\n",
    "    model.add(Dropout(0.2))\n",
    "    model.add(Dense(8, init='uniform', activation='relu', kernel_constraint=maxnorm(3)))\n",
    "    model.add(Dropout(0.2))\n",
    "    model.add(Dense(5, init='uniform', activation='relu'))\n",
    "    model.add(Dense(1, init='uniform', activation='relu'))\n",
    "\n",
    "    # Compile model\n",
    "    model.compile(loss='mean_absolute_error', optimizer='sgd')\n",
    "\n",
    "    # Fit the model\n",
    "    model.fit(X.iloc[train], Y2.iloc[train], epochs=300, batch_size=10, verbose=0)\n",
    "\n",
    "    # Evaluate the model\n",
    "    scores = model.evaluate(X.iloc[test], Y2.iloc[test], verbose=0)\n",
    "    print(\"%s: %.2f%%\" % (\"score\", 100-scores))\n",
    "cvscores.append(100-scores)\n",
    "print(\"%.2f%% (+/- %.2f%%)\" % (np.mean(cvscores), np.std(cvscores)))"
   ]
  },
  {
   "cell_type": "code",
   "execution_count": 52,
   "metadata": {},
   "outputs": [
    {
     "name": "stderr",
     "output_type": "stream",
     "text": [
      "D:\\Anaconda\\envs\\tfdeeplearning\\lib\\site-packages\\ipykernel_launcher.py:3: UserWarning: Update your `Dense` call to the Keras 2 API: `Dense(15, activation=\"relu\", input_dim=8, kernel_initializer=\"uniform\")`\n",
      "  This is separate from the ipykernel package so we can avoid doing imports until\n",
      "D:\\Anaconda\\envs\\tfdeeplearning\\lib\\site-packages\\ipykernel_launcher.py:5: UserWarning: Update your `Dense` call to the Keras 2 API: `Dense(8, kernel_constraint=<keras.con..., activation=\"relu\", kernel_initializer=\"uniform\")`\n",
      "  \"\"\"\n",
      "D:\\Anaconda\\envs\\tfdeeplearning\\lib\\site-packages\\ipykernel_launcher.py:7: UserWarning: Update your `Dense` call to the Keras 2 API: `Dense(5, activation=\"relu\", kernel_initializer=\"uniform\")`\n",
      "  import sys\n",
      "D:\\Anaconda\\envs\\tfdeeplearning\\lib\\site-packages\\ipykernel_launcher.py:8: UserWarning: Update your `Dense` call to the Keras 2 API: `Dense(1, activation=\"relu\", kernel_initializer=\"uniform\")`\n",
      "  \n"
     ]
    }
   ],
   "source": [
    "    # create model\n",
    "    model = Sequential()\n",
    "    model.add(Dense(15, input_dim=8, init='uniform', activation='relu'))\n",
    "    model.add(Dropout(0.2))\n",
    "    model.add(Dense(8, init='uniform', activation='relu', kernel_constraint=maxnorm(3)))\n",
    "    model.add(Dropout(0.2))\n",
    "    model.add(Dense(5, init='uniform', activation='relu'))\n",
    "    model.add(Dense(1, init='uniform', activation='relu'))\n",
    "    model.compile(loss='mean_absolute_error', optimizer='sgd')\n"
   ]
  },
  {
   "cell_type": "code",
   "execution_count": 53,
   "metadata": {},
   "outputs": [
    {
     "name": "stdout",
     "output_type": "stream",
     "text": [
      "Epoch 1/1\n",
      "768/768 [==============================] - 1s 875us/step - loss: 21.7605\n"
     ]
    },
    {
     "data": {
      "text/plain": [
       "<keras.callbacks.History at 0x14c5ab80eb8>"
      ]
     },
     "execution_count": 53,
     "metadata": {},
     "output_type": "execute_result"
    }
   ],
   "source": [
    "model.fit(X, Y1)"
   ]
  },
  {
   "cell_type": "code",
   "execution_count": 54,
   "metadata": {},
   "outputs": [
    {
     "data": {
      "text/plain": [
       "array([[ 0.22629163],\n",
       "       [ 0.22629969],\n",
       "       [ 0.22630775],\n",
       "       [ 0.2263158 ],\n",
       "       [ 0.22641149],\n",
       "       [ 0.22641955],\n",
       "       [ 0.22642761],\n",
       "       [ 0.22643568]], dtype=float32)"
      ]
     },
     "execution_count": 54,
     "metadata": {},
     "output_type": "execute_result"
    }
   ],
   "source": [
    "model.predict(fake_X)"
   ]
  },
  {
   "cell_type": "code",
   "execution_count": null,
   "metadata": {
    "collapsed": true
   },
   "outputs": [],
   "source": []
  }
 ],
 "metadata": {
  "kernelspec": {
   "display_name": "Python 3",
   "language": "python",
   "name": "python3"
  },
  "language_info": {
   "codemirror_mode": {
    "name": "ipython",
    "version": 3
   },
   "file_extension": ".py",
   "mimetype": "text/x-python",
   "name": "python",
   "nbconvert_exporter": "python",
   "pygments_lexer": "ipython3",
   "version": "3.5.4"
  }
 },
 "nbformat": 4,
 "nbformat_minor": 2
}
